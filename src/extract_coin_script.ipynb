{
    "cells": [
        {
            "cell_type": "markdown",
            "source": [
                "## function 1. get coin list"
            ],
            "metadata": {}
        },
        {
            "cell_type": "code",
            "execution_count": 4,
            "source": [
                "from coinbase.wallet.client import Client\n",
                "import coinbase\n",
                "# dir(coinbase.wallet.client)\n",
                "# help(coinbase.wallet.client)\n",
                "import requests\n",
                "    \n",
                "uri = 'https://api.pro.coinbase.com/currencies'\n",
                "response = requests.get(uri).json()\n",
                "\n",
                "coin_list = []\n",
                "\n",
                "for i in range(len(response)):\n",
                "    if response[i]['details']['type'] == 'crypto':\n",
                "        #print(response[i]['id'])\n",
                "        coin_list.append(response[i]['id'])\n",
                "\n",
                "#len(coin_list)"
            ],
            "outputs": [],
            "metadata": {}
        },
        {
            "cell_type": "code",
            "execution_count": 175,
            "source": [
                "import pickle as pkl\n",
                "# save pickle \n",
                "filename = '/Users/lucaschang/Documents/ETL/coin_price_etl/src/coin_list.pkl'\n",
                "pkl.dump(coin_list,open(filename,'wb'))\n",
                "#coin_list"
            ],
            "outputs": [],
            "metadata": {}
        },
        {
            "cell_type": "markdown",
            "source": [
                "## function 2. get coin price "
            ],
            "metadata": {}
        },
        {
            "cell_type": "code",
            "execution_count": 6,
            "source": [
                "import pickle as pkl\n",
                "from coinbase.wallet.client import Client\n",
                "import requests\n",
                "import datetime\n",
                "import pandas as pd\n",
                "from time import sleep"
            ],
            "outputs": [],
            "metadata": {}
        },
        {
            "cell_type": "code",
            "execution_count": 8,
            "source": [
                "# load pickle\n",
                "filename = '/Users/lucaschang/Documents/ETL/coin_price_etl/src/coin_list.pkl'\n",
                "coin_list = pkl.load(open(filename,'rb'))\n",
                "\n",
                "client = Client(\"KazHBMQ18dnkfdkF\", \"tvysDSfvAif0TePPxJiwU12HU24ZaTMB\")\n",
                "\n",
                "client.get_currencies()\n",
                "\n",
                "client.get_exchange_rates()\n",
                "\n",
                "datetime_dt = datetime.datetime.today()# 獲得當地時間\n",
                "datetime_str = datetime_dt.strftime(\"%Y-%m-%d %H:%M:%S\")\n",
                "\n",
                "base_df = pd.read_csv('/Users/lucaschang/Documents/ETL/coin_price_etl/result/base.csv')\n",
                "\n",
                "coin_price_list = []\n",
                "for coin_id in coin_list[0:141]:\n",
                "    print(len(coin_price_list),coin_id)\n",
                "    coin_price = (datetime_str,coin_id,client.get_exchange_rates(currency=coin_id)['rates']['USDT'])\n",
                "    sleep(3)\n",
                "    coin_price_list.append(coin_price)"
            ],
            "outputs": [
                {
                    "output_type": "stream",
                    "name": "stdout",
                    "text": [
                        "0 UNI\n",
                        "1 GYEN\n",
                        "2 BLZ\n",
                        "3 BICO\n",
                        "4 FIL\n",
                        "5 BAT\n",
                        "6 TRAC\n",
                        "7 GALA\n",
                        "8 API3\n",
                        "9 XTZ\n",
                        "10 COVAL\n"
                    ]
                },
                {
                    "output_type": "error",
                    "ename": "KeyboardInterrupt",
                    "evalue": "",
                    "traceback": [
                        "\u001b[0;31m---------------------------------------------------------------------------\u001b[0m",
                        "\u001b[0;31mKeyboardInterrupt\u001b[0m                         Traceback (most recent call last)",
                        "\u001b[0;32m<ipython-input-8-8454504aa231>\u001b[0m in \u001b[0;36m<module>\u001b[0;34m\u001b[0m\n\u001b[1;32m     18\u001b[0m     \u001b[0mprint\u001b[0m\u001b[0;34m(\u001b[0m\u001b[0mlen\u001b[0m\u001b[0;34m(\u001b[0m\u001b[0mcoin_price_list\u001b[0m\u001b[0;34m)\u001b[0m\u001b[0;34m,\u001b[0m\u001b[0mcoin_id\u001b[0m\u001b[0;34m)\u001b[0m\u001b[0;34m\u001b[0m\u001b[0;34m\u001b[0m\u001b[0m\n\u001b[1;32m     19\u001b[0m     \u001b[0mcoin_price\u001b[0m \u001b[0;34m=\u001b[0m \u001b[0;34m(\u001b[0m\u001b[0mdatetime_str\u001b[0m\u001b[0;34m,\u001b[0m\u001b[0mcoin_id\u001b[0m\u001b[0;34m,\u001b[0m\u001b[0mclient\u001b[0m\u001b[0;34m.\u001b[0m\u001b[0mget_exchange_rates\u001b[0m\u001b[0;34m(\u001b[0m\u001b[0mcurrency\u001b[0m\u001b[0;34m=\u001b[0m\u001b[0mcoin_id\u001b[0m\u001b[0;34m)\u001b[0m\u001b[0;34m[\u001b[0m\u001b[0;34m'rates'\u001b[0m\u001b[0;34m]\u001b[0m\u001b[0;34m[\u001b[0m\u001b[0;34m'USDT'\u001b[0m\u001b[0;34m]\u001b[0m\u001b[0;34m)\u001b[0m\u001b[0;34m\u001b[0m\u001b[0;34m\u001b[0m\u001b[0m\n\u001b[0;32m---> 20\u001b[0;31m     \u001b[0msleep\u001b[0m\u001b[0;34m(\u001b[0m\u001b[0;36m3\u001b[0m\u001b[0;34m)\u001b[0m\u001b[0;34m\u001b[0m\u001b[0;34m\u001b[0m\u001b[0m\n\u001b[0m\u001b[1;32m     21\u001b[0m     \u001b[0mcoin_price_list\u001b[0m\u001b[0;34m.\u001b[0m\u001b[0mappend\u001b[0m\u001b[0;34m(\u001b[0m\u001b[0mcoin_price\u001b[0m\u001b[0;34m)\u001b[0m\u001b[0;34m\u001b[0m\u001b[0;34m\u001b[0m\u001b[0m\n",
                        "\u001b[0;31mKeyboardInterrupt\u001b[0m: "
                    ]
                }
            ],
            "metadata": {}
        },
        {
            "cell_type": "code",
            "execution_count": 10,
            "source": [
                "df = pd.DataFrame (coin_price_list, columns = ['datetime','coin_name','coin_price'])\n",
                "\n",
                "df3= pd.concat([base_df.reset_index(drop=True),\n",
                "                df.reset_index(drop = True)],\n",
                "                axis = 0)\n",
                "\n",
                "#df3.to_csv('/Users/lucaschang/Documents/ETL/coin_price_etl/result/base.csv',index=False)\n",
                "print(df3)"
            ],
            "outputs": [
                {
                    "output_type": "error",
                    "ename": "NameError",
                    "evalue": "name 'coin_price_list' is not defined",
                    "traceback": [
                        "\u001b[0;31m---------------------------------------------------------------------------\u001b[0m",
                        "\u001b[0;31mNameError\u001b[0m                                 Traceback (most recent call last)",
                        "\u001b[0;32m<ipython-input-10-69cc6906382e>\u001b[0m in \u001b[0;36m<module>\u001b[0;34m\u001b[0m\n\u001b[0;32m----> 1\u001b[0;31m \u001b[0mdf\u001b[0m \u001b[0;34m=\u001b[0m \u001b[0mpd\u001b[0m\u001b[0;34m.\u001b[0m\u001b[0mDataFrame\u001b[0m \u001b[0;34m(\u001b[0m\u001b[0mcoin_price_list\u001b[0m\u001b[0;34m,\u001b[0m \u001b[0mcolumns\u001b[0m \u001b[0;34m=\u001b[0m \u001b[0;34m[\u001b[0m\u001b[0;34m'datetime'\u001b[0m\u001b[0;34m,\u001b[0m\u001b[0;34m'coin_name'\u001b[0m\u001b[0;34m,\u001b[0m\u001b[0;34m'coin_price'\u001b[0m\u001b[0;34m]\u001b[0m\u001b[0;34m)\u001b[0m\u001b[0;34m\u001b[0m\u001b[0;34m\u001b[0m\u001b[0m\n\u001b[0m\u001b[1;32m      2\u001b[0m \u001b[0;34m\u001b[0m\u001b[0m\n\u001b[1;32m      3\u001b[0m \u001b[0mprint\u001b[0m\u001b[0;34m(\u001b[0m\u001b[0mdf\u001b[0m\u001b[0;34m.\u001b[0m\u001b[0mhead\u001b[0m\u001b[0;34m(\u001b[0m\u001b[0;36m100\u001b[0m\u001b[0;34m)\u001b[0m\u001b[0;34m)\u001b[0m\u001b[0;34m\u001b[0m\u001b[0;34m\u001b[0m\u001b[0m\n\u001b[1;32m      4\u001b[0m \u001b[0;34m\u001b[0m\u001b[0m\n\u001b[1;32m      5\u001b[0m \u001b[0mtime_str\u001b[0m \u001b[0;34m=\u001b[0m \u001b[0mdatetime_str\u001b[0m\u001b[0;34m\u001b[0m\u001b[0;34m\u001b[0m\u001b[0m\n",
                        "\u001b[0;31mNameError\u001b[0m: name 'coin_price_list' is not defined"
                    ]
                }
            ],
            "metadata": {}
        },
        {
            "cell_type": "markdown",
            "source": [
                "## function 3. diff coin price and plot it "
            ],
            "metadata": {}
        },
        {
            "cell_type": "code",
            "execution_count": null,
            "source": [
                "'''\n",
                "# each coin price 5 min diff \n",
                "import pandas as pd\n",
                "df = pd.read_csv('/Users/lucaschang/Documents/ETL/coin_price_etl/result/base.csv')\n",
                "#df.head(5)\n",
                "\n",
                "df['datetime'] = pd.to_datetime(df['datetime'])\n",
                "\n",
                "#df.info()\n",
                "df\n",
                "\n",
                "tail = df.groupby(['coin_name']).tail(2).reset_index()\n",
                "tail = tail.sort_values(by=['datetime', 'coin_name'])\n",
                "\n",
                "df4 = []\n",
                "for i in tail['coin_name'].unique():\n",
                "    test = tail[tail['coin_name'] == i]['coin_price'] \n",
                "    diff = test.iloc[1]-test.iloc[0]\n",
                "    print(i,diff)\n",
                "    tup = (i,diff)\n",
                "    df4.append(tup)\n",
                "\n",
                "diff = pd.DataFrame (df4, columns = ['coin_name','coin_diff'])\n",
                "\n",
                "diff.to_csv('/Users/lucaschang/Documents/ETL/coin_price_etl/result/coin_diff.csv',index=False)\n",
                "\n",
                "'''"
            ],
            "outputs": [],
            "metadata": {}
        },
        {
            "cell_type": "code",
            "execution_count": 2,
            "source": [
                "import pandas as pd\n",
                "import numpy as np\n",
                "import matplotlib.pyplot as plt\n",
                "\n",
                "df = pd.read_csv('/Users/lucaschang/Documents/ETL/coin_price_etl/result/base.csv')\n",
                "\n",
                "df['datetime'] = pd.to_datetime(df['datetime'])\n",
                "\n",
                "tail1 = df.groupby(['coin_name']).tail(1).reset_index()\n",
                "tail2 = df.groupby(['coin_name']).nth(1).reset_index()\n",
                "\n",
                "df3= pd.concat([tail1.reset_index(drop=True),\n",
                "                tail2.reset_index(drop = True)],\n",
                "                axis = 0)\n",
                "\n",
                "\n",
                "tail = df.groupby(['coin_name']).tail(2).reset_index()\n",
                "tail = tail.sort_values(by=['datetime', 'coin_name'])\n",
                "\n",
                "df4 = []\n",
                "for i in tail['coin_name'].unique():\n",
                "    test = tail[tail['coin_name'] == i]['coin_price'] \n",
                "    diff = test.iloc[1]-test.iloc[0]\n",
                "    diff_pct = (test.iloc[1]-test.iloc[0])/test.iloc[0]\n",
                "    diff = \"%0.2f\" % diff\n",
                "    diff_pct =\"%0.2f\" % diff_pct\n",
                "    #print(i,diff)\n",
                "    tup = (i,diff,diff_pct)\n",
                "    df4.append(tup)\n",
                "\n",
                "diff = pd.DataFrame (df4, columns = ['coin_name','coin_diff','coin_diff_pct'])\n",
                "diff['coin_diff']= diff['coin_diff'].astype('str').astype('float')\n",
                "diff['coin_diff_pct']= diff['coin_diff_pct'].astype('str').astype('float')\n",
                "\n",
                "print(diff.info())\n",
                "\n",
                "diff_desc = diff.sort_values(by=['coin_diff'], ascending=False)\n",
                "\n",
                "# output the diff table \n",
                "diff.to_csv('/Users/lucaschang/Documents/ETL/coin_price_etl/result/coin_diff.csv',index=False)\n",
                "\n",
                "top_tail_diff = pd.concat([diff_desc.head(5), diff_desc.tail(5)], ignore_index=True)\n",
                "\n",
                "# ploting\n",
                "coin = top_tail_diff['coin_name']\n",
                "coin_diff = top_tail_diff['coin_diff']\n",
                "fig2 = plt.figure()\n",
                "x = np.arange(len(coin))\n",
                "plt.bar(x,coin_diff)\n",
                "plt.xticks(x, coin) # 刻度\n",
                "plt.xlabel('coin')\n",
                "plt.ylabel('coin_diff')\n",
                "plt.title('coin diff plot')\n",
                "plt.show()\n",
                "fig2.savefig('/Users/lucaschang/Documents/ETL/coin_price_etl/result/coin_diff.png')\n",
                "\n",
                "diff_desc_pct = diff.sort_values(by=['coin_diff_pct'], ascending=False)\n",
                "top_tail_diff_pct = pd.concat([diff_desc_pct.head(5), diff_desc_pct.tail(5)], ignore_index=True)\n",
                "\n",
                "# plotting\n",
                "coin = top_tail_diff_pct['coin_name']\n",
                "coin_diff_pct = top_tail_diff_pct['coin_diff_pct']\n",
                "fig3 = plt.figure()\n",
                "x = np.arange(len(coin))\n",
                "plt.bar(x,coin_diff_pct)\n",
                "plt.xticks(x, coin)\n",
                "plt.xlabel('coin')\n",
                "plt.ylabel('coin_diff_pct')\n",
                "plt.title('coin diff plot %')\n",
                "plt.show()\n",
                "fig3.savefig('/Users/lucaschang/Documents/ETL/coin_price_etl/result/coin_diff_pct.png')"
            ],
            "outputs": [
                {
                    "output_type": "stream",
                    "name": "stdout",
                    "text": [
                        "<class 'pandas.core.frame.DataFrame'>\n",
                        "RangeIndex: 141 entries, 0 to 140\n",
                        "Data columns (total 3 columns):\n",
                        " #   Column         Non-Null Count  Dtype  \n",
                        "---  ------         --------------  -----  \n",
                        " 0   coin_name      141 non-null    object \n",
                        " 1   coin_diff      141 non-null    float64\n",
                        " 2   coin_diff_pct  141 non-null    float64\n",
                        "dtypes: float64(2), object(1)\n",
                        "memory usage: 3.4+ KB\n",
                        "None\n"
                    ]
                },
                {
                    "output_type": "display_data",
                    "data": {
                        "text/plain": [
                            "<Figure size 432x288 with 1 Axes>"
                        ],
                        "image/png": "[encoded data removed]"
                    },
                    "metadata": {
                        "needs_background": "light"
                    }
                },
                {
                    "output_type": "display_data",
                    "data": {
                        "text/plain": [
                            "<Figure size 432x288 with 1 Axes>"
                        ],
                        "image/png": "[encoded data removed]"
                    },
                    "metadata": {
                        "needs_background": "light"
                    }
                }
            ],
            "metadata": {}
        },
        {
            "cell_type": "markdown",
            "source": [
                "## function 4. insert data into mysql database"
            ],
            "metadata": {}
        },
        {
            "cell_type": "code",
            "execution_count": 1,
            "source": [
                "import pandas as pd \n",
                "df = pd.read_csv('/Users/lucaschang/Documents/ETL/coin_price_etl/result/base.csv')\n",
                "df.info()\n",
                "# df['datetime'] = pd.to_datetime(df['datetime'])\n",
                "df.head(100)"
            ],
            "outputs": [
                {
                    "output_type": "stream",
                    "name": "stdout",
                    "text": [
                        "<class 'pandas.core.frame.DataFrame'>\n",
                        "RangeIndex: 2397 entries, 0 to 2396\n",
                        "Data columns (total 3 columns):\n",
                        " #   Column      Non-Null Count  Dtype  \n",
                        "---  ------      --------------  -----  \n",
                        " 0   datetime    2397 non-null   object \n",
                        " 1   coin_name   2397 non-null   object \n",
                        " 2   coin_price  2397 non-null   float64\n",
                        "dtypes: float64(1), object(2)\n",
                        "memory usage: 56.3+ KB\n"
                    ]
                },
                {
                    "output_type": "execute_result",
                    "data": {
                        "text/plain": [
                            "               datetime coin_name    coin_price\n",
                            "0   2021-12-23 00:00:04       UNI     15.473037\n",
                            "1   2021-12-23 00:00:04      GYEN      0.008734\n",
                            "2   2021-12-23 00:00:04       BLZ      0.293200\n",
                            "3   2021-12-23 00:00:04      BICO      3.665000\n",
                            "4   2021-12-23 00:00:04       FIL     36.008796\n",
                            "..                  ...       ...           ...\n",
                            "95  2021-12-23 00:00:04     JASMY      0.091644\n",
                            "96  2021-12-23 00:00:04      SUKU      0.525950\n",
                            "97  2021-12-23 00:00:04      WBTC  49100.294867\n",
                            "98  2021-12-23 00:00:04      CGLD      4.632915\n",
                            "99  2021-12-23 00:00:04        NU      0.747913\n",
                            "\n",
                            "[100 rows x 3 columns]"
                        ],
                        "text/html": [
                            "<div>\n",
                            "<style scoped>\n",
                            "    .dataframe tbody tr th:only-of-type {\n",
                            "        vertical-align: middle;\n",
                            "    }\n",
                            "\n",
                            "    .dataframe tbody tr th {\n",
                            "        vertical-align: top;\n",
                            "    }\n",
                            "\n",
                            "    .dataframe thead th {\n",
                            "        text-align: right;\n",
                            "    }\n",
                            "</style>\n",
                            "<table border=\"1\" class=\"dataframe\">\n",
                            "  <thead>\n",
                            "    <tr style=\"text-align: right;\">\n",
                            "      <th></th>\n",
                            "      <th>datetime</th>\n",
                            "      <th>coin_name</th>\n",
                            "      <th>coin_price</th>\n",
                            "    </tr>\n",
                            "  </thead>\n",
                            "  <tbody>\n",
                            "    <tr>\n",
                            "      <th>0</th>\n",
                            "      <td>2021-12-23 00:00:04</td>\n",
                            "      <td>UNI</td>\n",
                            "      <td>15.473037</td>\n",
                            "    </tr>\n",
                            "    <tr>\n",
                            "      <th>1</th>\n",
                            "      <td>2021-12-23 00:00:04</td>\n",
                            "      <td>GYEN</td>\n",
                            "      <td>0.008734</td>\n",
                            "    </tr>\n",
                            "    <tr>\n",
                            "      <th>2</th>\n",
                            "      <td>2021-12-23 00:00:04</td>\n",
                            "      <td>BLZ</td>\n",
                            "      <td>0.293200</td>\n",
                            "    </tr>\n",
                            "    <tr>\n",
                            "      <th>3</th>\n",
                            "      <td>2021-12-23 00:00:04</td>\n",
                            "      <td>BICO</td>\n",
                            "      <td>3.665000</td>\n",
                            "    </tr>\n",
                            "    <tr>\n",
                            "      <th>4</th>\n",
                            "      <td>2021-12-23 00:00:04</td>\n",
                            "      <td>FIL</td>\n",
                            "      <td>36.008796</td>\n",
                            "    </tr>\n",
                            "    <tr>\n",
                            "      <th>...</th>\n",
                            "      <td>...</td>\n",
                            "      <td>...</td>\n",
                            "      <td>...</td>\n",
                            "    </tr>\n",
                            "    <tr>\n",
                            "      <th>95</th>\n",
                            "      <td>2021-12-23 00:00:04</td>\n",
                            "      <td>JASMY</td>\n",
                            "      <td>0.091644</td>\n",
                            "    </tr>\n",
                            "    <tr>\n",
                            "      <th>96</th>\n",
                            "      <td>2021-12-23 00:00:04</td>\n",
                            "      <td>SUKU</td>\n",
                            "      <td>0.525950</td>\n",
                            "    </tr>\n",
                            "    <tr>\n",
                            "      <th>97</th>\n",
                            "      <td>2021-12-23 00:00:04</td>\n",
                            "      <td>WBTC</td>\n",
                            "      <td>49100.294867</td>\n",
                            "    </tr>\n",
                            "    <tr>\n",
                            "      <th>98</th>\n",
                            "      <td>2021-12-23 00:00:04</td>\n",
                            "      <td>CGLD</td>\n",
                            "      <td>4.632915</td>\n",
                            "    </tr>\n",
                            "    <tr>\n",
                            "      <th>99</th>\n",
                            "      <td>2021-12-23 00:00:04</td>\n",
                            "      <td>NU</td>\n",
                            "      <td>0.747913</td>\n",
                            "    </tr>\n",
                            "  </tbody>\n",
                            "</table>\n",
                            "<p>100 rows × 3 columns</p>\n",
                            "</div>"
                        ]
                    },
                    "metadata": {},
                    "execution_count": 1
                }
            ],
            "metadata": {}
        },
        {
            "cell_type": "code",
            "execution_count": 2,
            "source": [
                "#pip install mysql-connector-python\n",
                "import mysql.connector\n",
                "\n",
                "mydb = mysql.connector.connect(\n",
                "  host=\"localhost\",\n",
                "  user=\"root\",\n",
                "  password=\"zzzaaa999\",\n",
                "  database=\"crawler_db\"\n",
                ")\n",
                "\n",
                "mycursor = mydb.cursor()\n",
                "\n",
                "mycursor.execute(\"CREATE TABLE coin_price (datetime datetime, coin_name VARCHAR(255), coin_price int)\")"
            ],
            "outputs": [],
            "metadata": {}
        },
        {
            "cell_type": "code",
            "execution_count": 3,
            "source": [
                "# put tuples in list\n",
                "print(df.info())\n",
                "#df['datetime'] = df['datetime'].astype('str')\n",
                "#df['coin_price'] = df['coin_price'].astype('str')\n",
                "df['coin_price'] = df['coin_price'].astype('object')\n",
                "print(df.info())\n",
                "\n",
                "records = df.to_records(index=False)\n",
                "result = list(records)\n",
                "print(result[0:10])\n",
                "\n",
                "\n",
                "#d = df['datetime'].strftime(\"%Y-%m-%d, %H:%M:%S\")\n",
                "#print(\"Output 2:\", d)\n"
            ],
            "outputs": [
                {
                    "output_type": "stream",
                    "name": "stdout",
                    "text": [
                        "<class 'pandas.core.frame.DataFrame'>\n",
                        "RangeIndex: 2397 entries, 0 to 2396\n",
                        "Data columns (total 3 columns):\n",
                        " #   Column      Non-Null Count  Dtype  \n",
                        "---  ------      --------------  -----  \n",
                        " 0   datetime    2397 non-null   object \n",
                        " 1   coin_name   2397 non-null   object \n",
                        " 2   coin_price  2397 non-null   float64\n",
                        "dtypes: float64(1), object(2)\n",
                        "memory usage: 56.3+ KB\n",
                        "None\n",
                        "<class 'pandas.core.frame.DataFrame'>\n",
                        "RangeIndex: 2397 entries, 0 to 2396\n",
                        "Data columns (total 3 columns):\n",
                        " #   Column      Non-Null Count  Dtype \n",
                        "---  ------      --------------  ----- \n",
                        " 0   datetime    2397 non-null   object\n",
                        " 1   coin_name   2397 non-null   object\n",
                        " 2   coin_price  2397 non-null   object\n",
                        "dtypes: object(3)\n",
                        "memory usage: 56.3+ KB\n",
                        "None\n",
                        "[('2021-12-23 00:00:04', 'UNI', 15.473037133290026), ('2021-12-23 00:00:04', 'GYEN', 0.008734069668649105), ('2021-12-23 00:00:04', 'BLZ', 0.2932), ('2021-12-23 00:00:04', 'BICO', 3.665), ('2021-12-23 00:00:04', 'FIL', 36.0087960417812), ('2021-12-23 00:00:04', 'BAT', 1.2090289369783598), ('2021-12-23 00:00:04', 'TRAC', 1.0853), ('2021-12-23 00:00:04', 'GALA', 0.44927), ('2021-12-23 00:00:04', 'API3', 5.06), ('2021-12-23 00:00:04', 'XTZ', 4.383027637563096)]\n"
                    ]
                }
            ],
            "metadata": {}
        },
        {
            "cell_type": "markdown",
            "source": [
                "### test insert one record"
            ],
            "metadata": {}
        },
        {
            "cell_type": "code",
            "execution_count": 4,
            "source": [
                "#insert data into mysql db\n",
                "mySql_insert_query = \"\"\"INSERT INTO coin_price (datetime,coin_name,coin_price) VALUES (%s, %s, %s) \"\"\"\n",
                "\n",
                "mycursor.executemany(mySql_insert_query, result)\n",
                "\n",
                "mydb.commit()\n",
                "\n",
                "print(mycursor.rowcount, \"record inserted.\")"
            ],
            "outputs": [
                {
                    "output_type": "stream",
                    "name": "stdout",
                    "text": [
                        "2397 record inserted.\n"
                    ]
                }
            ],
            "metadata": {}
        },
        {
            "cell_type": "code",
            "execution_count": 6,
            "source": [
                "#query data from mysql db\n",
                "import mysql.connector\n",
                "\n",
                "mydb = mysql.connector.connect(\n",
                "  host=\"localhost\",\n",
                "  user=\"root\",\n",
                "  password=\"zzzaaa999\",\n",
                "  database=\"crawler_db\"\n",
                ")\n",
                "\n",
                "mycursor = mydb.cursor()\n",
                "\n",
                "mycursor.execute(\"select * from coin_price\")\n",
                "\n",
                "mydb.close()\n",
                "\n"
            ],
            "outputs": [],
            "metadata": {}
        },
        {
            "cell_type": "markdown",
            "source": [
                "## function5 : push png and data into linebot"
            ],
            "metadata": {}
        },
        {
            "cell_type": "code",
            "execution_count": 34,
            "source": [
                "import requests\n",
                "from urllib.request import urlopen\n",
                "\n",
                "string = \"testing\"\n",
                "headers = {\n",
                "        \"Authorization\":\n",
                "        \"Bearer \" + \"F2Gwkz5zGslMQeluURPLhzAH30P8Al7j81ybPGAEFdK\",\n",
                "        \"Content-Type\": \"application/x-www-form-urlencoded\"\n",
                "    }\n",
                "\n",
                "url = 'https://i.stack.imgur.com/GJmBb.png'\n",
                "params = {\"message\": string}\n",
                "files = {'imageFile':urlopen(url).read()}\n",
                "# open(r'/Users/lucaschang/Documents/ETL/coin_price_etl/result/coin_diff_pct.png', 'rb')}\n",
                "\n",
                "r = requests.post(\"https://notify-api.line.me/api/notify\",\n",
                "                      headers=headers,\n",
                "                      params=params,\n",
                "                      files=files)\n",
                "\n",
                "print(r.status_code)\n"
            ],
            "outputs": [
                {
                    "output_type": "stream",
                    "name": "stdout",
                    "text": [
                        "200\n"
                    ]
                }
            ],
            "metadata": {}
        },
        {
            "cell_type": "code",
            "execution_count": 30,
            "source": [
                "pic = open(r'/Users/lucaschang/Documents/ETL/coin_price_etl/result/coin_diff_pct.png', 'rb')\n",
                "pic"
            ],
            "outputs": [
                {
                    "output_type": "execute_result",
                    "data": {
                        "text/plain": [
                            "<_io.BufferedReader name='/Users/lucaschang/Documents/ETL/coin_price_etl/result/coin_diff_pct.png'>"
                        ]
                    },
                    "metadata": {},
                    "execution_count": 30
                }
            ],
            "metadata": {}
        },
        {
            "cell_type": "code",
            "execution_count": 39,
            "source": [
                "#分享鐵人幫的文+貼圖+縮圖程式\n",
                "import requests\n",
                "from bs4 import BeautifulSoup as bs \n",
                "\n",
                "def lineNotifyMessage(token, msg, img):\n",
                "\n",
                "    headers = {\n",
                "        \"Authorization\":\n",
                "        \"Bearer \" + \"F2Gwkz5zGslMQeluURPLhzAH30P8Al7j81ybPGAEFdK\",\n",
                "        \"Content-Type\": \"application/x-www-form-urlencoded\"\n",
                "    }\n",
                "\n",
                "    payload = {\n",
                "        'message': msg,\n",
                "        'imageThumbnail' : img, #imageThumbnail、imageFullsize為成對的圖片，各有尺寸大小\n",
                "        'imageFullsize' : img,\n",
                "        'stickerPackageId' : 2, #stickerPackageId、stickerId為貼圖成對的編號，參閱Line Sticker List\n",
                "        'stickerId' : 520\n",
                "    }\n",
                "    r = requests.post(\"https://notify-api.line.me/api/notify\", headers = headers, params = payload)\n",
                "    return r.status_code\n",
                "\n",
                "if __name__ == \"__main__\":\n",
                "  token = '你的權杖內容'\n",
                "  message = '大賢者【告】今日網友梗圖Top1'\n",
                "  img = '/Users/lucaschang/Documents/ETL/coin_price_etl/result/coin_diff_pct.png'\n",
                "\n",
                "  lineNotifyMessage(token, message, img)"
            ],
            "outputs": [],
            "metadata": {}
        }
    ],
    "metadata": {
        "orig_nbformat": 4,
        "language_info": {
            "name": "python",
            "version": "3.8.5",
            "mimetype": "text/x-python",
            "codemirror_mode": {
                "name": "ipython",
                "version": 3
            },
            "pygments_lexer": "ipython3",
            "nbconvert_exporter": "python",
            "file_extension": ".py"
        },
        "kernelspec": {
            "name": "python3",
            "display_name": "Python 3.8.5 64-bit ('anaconda3': virtualenv)"
        },
        "interpreter": {
            "hash": "dca0ade3e726a953b501b15e8e990130d2b7799f14cfd9f4271676035ebe5511"
        }
    },
    "nbformat": 4,
    "nbformat_minor": 2
}